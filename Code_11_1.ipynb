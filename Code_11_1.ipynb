{
  "nbformat": 4,
  "nbformat_minor": 0,
  "metadata": {
    "colab": {
      "provenance": [],
      "authorship_tag": "ABX9TyNqsf1dNdN+NPgcN/V83d3A",
      "include_colab_link": true
    },
    "kernelspec": {
      "name": "python3",
      "display_name": "Python 3"
    },
    "language_info": {
      "name": "python"
    }
  },
  "cells": [
    {
      "cell_type": "markdown",
      "metadata": {
        "id": "view-in-github",
        "colab_type": "text"
      },
      "source": [
        "<a href=\"https://colab.research.google.com/github/vpagonis/EURADOS-2023/blob/main/Code_11_1.ipynb\" target=\"_parent\"><img src=\"https://colab.research.google.com/assets/colab-badge.svg\" alt=\"Open In Colab\"/></a>"
      ]
    },
    {
      "cell_type": "markdown",
      "source": [
        "% Preview source code from paragraph 15 to 20\n",
        "\n",
        "In the previous chapter we studied the \\emph{KP-CW equation }which\n",
        "is used for CCDA of CW-IRSL signals: \n",
        "\n",
        "\\medskip{}\n",
        "\\noindent\\fbox{\\begin{minipage}[t]{1\\columnwidth - 2\\fboxsep - 2\\fboxrule}%\n",
        "\\begin{center}\n",
        "\\textbf{\\emph{The KP-CW equation for CW-OSL signal analysis ($c>0$)}}\n",
        "\\par\\end{center}\n",
        "\\begin{equation}\n",
        "I_{\\textrm{}}(t)=\\frac{A\\,F(t)^{2}\\,e^{-\\rho'(F(t))^{3}}}{1+s'\\,t}\\label{eq:KP-CW ch11}\n",
        "\\end{equation}\n",
        "\n",
        "\\begin{equation}\n",
        "F_{\\textrm{}}(t)=\\ln\\biggl(1+s'\\,t\\biggr)\\label{eq:zKP-CW OSLch11-2}\n",
        "\\end{equation}\n",
        "%\n",
        "\\end{minipage}}\n",
        "\n",
        "\\medskip{}\n",
        "\n",
        "\\noindent The fitting parameters here are the effective rate constant\n",
        "$s'$ (in s$^{-1}$) for the CW-IRSL process, the scaling constant\n",
        "$A$, and the dimensionless acceptor density $\\rho'$. \n",
        "\n",
        "Code \\ref{J1000 KPCW} fits a CW-IRSL experimental curve from sample\n",
        "J1000, a granitic gneiss feldspar studied in detail by Pagonis et\n",
        "al. \\cite{Pagonis2021c}. The least squares fitting result is shown\n",
        "in Fig.\\ref{fig:Experimental-CW-IRSL-glowKPCWfit}. The best fitting\n",
        "values in this example are $A=2.00\\pm0.08$, $\\rho'=0.0115\\pm0.0003$\n",
        "and $s'=12.1\\pm0.3$ s$^{-1}$. \n",
        "\n",
        "As noted previously in this book, the following practical detail is\n",
        "of importance: the analytical KP-CW equation (\\ref{eq:KP-CW ch11})\n",
        "gives a non-physical mathematical answer of zero for the intensity\n",
        "at time $t=0$, i.e. $I_{\\textrm{}}(0)=0$ . For this reason, it is\n",
        "necessary that the file which contains the experimental data starts\n",
        "at some value $t$\\textgreater 0 (e.g. at time $t=1$ s), and \\emph{not}\n",
        "at time $t=0.$ This is a necessary condition for the fitting process\n",
        "to work correctly.\n",
        "\n",
        "\n"
      ],
      "metadata": {
        "id": "8spXjSS979lP"
      }
    },
    {
      "cell_type": "code",
      "execution_count": 2,
      "metadata": {
        "colab": {
          "base_uri": "https://localhost:8080/",
          "height": 244
        },
        "id": "dGBYa6Op78R9",
        "outputId": "bbc531a5-b051-4bbe-8b11-ca515edf572f"
      },
      "outputs": [
        {
          "output_type": "error",
          "ename": "ValueError",
          "evalue": "ignored",
          "traceback": [
            "\u001b[0;31m---------------------------------------------------------------------------\u001b[0m",
            "\u001b[0;31mValueError\u001b[0m                                Traceback (most recent call last)",
            "\u001b[0;32m<ipython-input-2-0bd5ac60ed2e>\u001b[0m in \u001b[0;36m<cell line: 16>\u001b[0;34m()\u001b[0m\n\u001b[1;32m     14\u001b[0m \u001b[0mresponse\u001b[0m\u001b[0;34m=\u001b[0m\u001b[0mrequests\u001b[0m\u001b[0;34m.\u001b[0m\u001b[0mget\u001b[0m\u001b[0;34m(\u001b[0m\u001b[0murl\u001b[0m\u001b[0;34m)\u001b[0m\u001b[0;34m\u001b[0m\u001b[0;34m\u001b[0m\u001b[0m\n\u001b[1;32m     15\u001b[0m \u001b[0ma\u001b[0m\u001b[0;34m=\u001b[0m\u001b[0mresponse\u001b[0m\u001b[0;34m.\u001b[0m\u001b[0mtext\u001b[0m\u001b[0;34m\u001b[0m\u001b[0;34m\u001b[0m\u001b[0m\n\u001b[0;32m---> 16\u001b[0;31m \u001b[0mb\u001b[0m\u001b[0;34m=\u001b[0m\u001b[0mnp\u001b[0m\u001b[0;34m.\u001b[0m\u001b[0marray\u001b[0m\u001b[0;34m(\u001b[0m\u001b[0mlist\u001b[0m\u001b[0;34m(\u001b[0m\u001b[0mmap\u001b[0m\u001b[0;34m(\u001b[0m\u001b[0mfloat\u001b[0m\u001b[0;34m,\u001b[0m\u001b[0ma\u001b[0m\u001b[0;34m.\u001b[0m\u001b[0mstrip\u001b[0m\u001b[0;34m(\u001b[0m\u001b[0;34m\"[]\"\u001b[0m\u001b[0;34m)\u001b[0m\u001b[0;34m.\u001b[0m\u001b[0msplit\u001b[0m\u001b[0;34m(\u001b[0m\u001b[0;34m)\u001b[0m\u001b[0;34m)\u001b[0m\u001b[0;34m)\u001b[0m\u001b[0;34m)\u001b[0m\u001b[0;34m\u001b[0m\u001b[0;34m\u001b[0m\u001b[0m\n\u001b[0m\u001b[1;32m     17\u001b[0m \u001b[0mdata\u001b[0m\u001b[0;34m=\u001b[0m\u001b[0mb\u001b[0m\u001b[0;34m.\u001b[0m\u001b[0mreshape\u001b[0m\u001b[0;34m(\u001b[0m\u001b[0;34m-\u001b[0m\u001b[0;36m1\u001b[0m\u001b[0;34m,\u001b[0m\u001b[0;36m2\u001b[0m\u001b[0;34m)\u001b[0m\u001b[0;34m\u001b[0m\u001b[0;34m\u001b[0m\u001b[0m\n\u001b[1;32m     18\u001b[0m \u001b[0;34m\u001b[0m\u001b[0m\n",
            "\u001b[0;31mValueError\u001b[0m: could not convert string to float: '<!DOCTYPE'"
          ]
        }
      ],
      "source": [
        "# J1000 CW-IRSL data fitted with KP-CW equation\n",
        "from scipy import optimize\n",
        "from sympy import *\n",
        "import numpy as np\n",
        "import matplotlib.pyplot as plt\n",
        "from prettytable import PrettyTable \n",
        "import warnings\n",
        "warnings.filterwarnings(\"ignore\")\n",
        "import requests\n",
        "from scipy.special import wrightomega\n",
        "\n",
        "# read data file from GitHub\n",
        "url='https://github.com/vpagonis/EURADOS-2023/raw/main/J1000cwirsl.txt'\n",
        "response=requests.get(url)\n",
        "a=response.text\n",
        "b=np.array(list(map(float,a.strip(\"[]\").split())))\n",
        "data=b.reshape(-1,2)\n",
        "\n",
        "x_data,y_data=data[:,0][1:800], data[:,1][1:800]\n",
        "\n",
        "# normalize the data\n",
        "y_data=y_data/max(y_data)\n",
        "plt.subplot(2,1, 1)\n",
        "\n",
        "# function for KP-CW equation\n",
        "def test_func(x, imax_fit,rho_fit, A_fit,bgd_fit):\n",
        "    return imax_fit*np.exp (-rho_fit*(np.log(1 + A_fit*x))\\\n",
        "\t** 3.0)*(np.log(1+A_fit*x)**2.0)/(1+x*A_fit)+bgd_fit\n",
        "\n",
        "# find best fit parameters to the data and errors\n",
        "params, cov = optimize.curve_fit(test_func,\\\n",
        "x_data, y_data)\n",
        "drho= round(np.sqrt(cov[1][1]),5)\n",
        "dA = round(np.sqrt(cov[2][2]),2)\n",
        "dimax = round(np.sqrt(cov[0][2]),2)\n",
        "\n",
        "# plot data and best fit\n",
        "plt.scatter(x_data, y_data, label='J1000 feldspar')\n",
        "plt.plot(x_data, test_func(x_data, *params[0:4]),\n",
        "label='KP-CW equation')\n",
        "leg = plt.legend()\n",
        "leg.get_frame().set_linewidth(0.0)\n",
        "plt.ylabel('CW-IRSL signal [a.u.]')\n",
        "plt.xlabel('Time [s]')\n",
        "\n",
        "# plot residuals\n",
        "plt.subplot(2,1, 2)\n",
        "plt.plot(x_data,test_func(x_data, *params[0:4])-\\\n",
        "y_data,\"o\",label='Residuals')\n",
        "leg = plt.legend()\n",
        "leg.get_frame().set_linewidth(0.0)\n",
        "plt.ylabel('Residuals')\n",
        "plt.xlabel('Time [s]')\n",
        "plt.ylim(-.1,.1)\n",
        "plt.tight_layout()\n",
        "\n",
        "# print table of best fit parameters\n",
        "imax,rho, A, bgd=int(params[0]),round(params[1],5),\\\n",
        "round(params[2],2),round(params[-1],3)\n",
        "res=test_func(x_data, *params)-y_data\n",
        "FOM=round(100*np.sum(abs(res))/np.sum(y_data),2)\n",
        "myTable=PrettyTable([\"A\",'dA', \"rho\",  \"d(rho)\",\\\n",
        "\"s'(s^-1)\",\"ds'\",'bgd'])  \n",
        "myTable.add_row([imax,dimax,rho,drho, A, dA,bgd])\n",
        "print('FOM=',FOM,' %')\n",
        "print(myTable)\n",
        "plt.show()"
      ]
    }
  ]
}