{
  "nbformat": 4,
  "nbformat_minor": 0,
  "metadata": {
    "colab": {
      "provenance": [],
      "authorship_tag": "ABX9TyMOPuOzPhqcekwd7bq+yNhX",
      "include_colab_link": true
    },
    "kernelspec": {
      "name": "python3",
      "display_name": "Python 3"
    },
    "language_info": {
      "name": "python"
    }
  },
  "cells": [
    {
      "cell_type": "markdown",
      "metadata": {
        "id": "view-in-github",
        "colab_type": "text"
      },
      "source": [
        "<a href=\"https://colab.research.google.com/github/vpagonis/EURADOS-2023/blob/main/Code_15_2.ipynb\" target=\"_parent\"><img src=\"https://colab.research.google.com/assets/colab-badge.svg\" alt=\"Open In Colab\"/></a>"
      ]
    },
    {
      "cell_type": "markdown",
      "source": [
        "# CODE 15.2 FITTING DOSE RESPONSE DATA USING \n",
        "\n",
        "Optical absorption (OA) and electron spin resonance (ESR)  signals are\n",
        "often measured simultaneously with TL and/or OSL with the same sample.\n",
        "These combined types of experiments produce important information\n",
        "about the underlying luminescence mechanisms, as well as about the\n",
        "nature of the trapping and luminescence centers.\n",
        "\n",
        "The dose response of TL, OSL, OA and ESR signals exhibit nonlinear\n",
        "regions, associated with the phenomena of superlinearity and sublinearity. \n",
        "\n",
        "A good example of simultaneous measurements and possible correlations\n",
        "between the TL, ESR and OA signals\n",
        "has been found in a sample of fused silica (Wieser et al. 1991).\n",
        "This type of multifaceted experiment can be very useful in identifying\n",
        "the source of the various luminescence signals, i.e. the nature of\n",
        "the traps and centers in the dosimetric material.\n",
        "\n",
        "The most commonly used function\n",
        "for fitting the dose response of luminescence signal is the saturating\n",
        "exponential function (SE). Additional general dose response equations\n",
        "are the saturating exponential plus linear function (SEL)\\index{single saturating exponential plus linear SEL},\n",
        "the double saturating exponential (DSE)\\index{double saturating exponential DSE}\n",
        "and the GOK-dose response (GOK-DR) equations. These equations are:\n",
        "\n",
        "\\begin{equation}\n",
        "\\frac{n(D)}{N}=1-\\exp\\left[-\\frac{\\,D}{D_{0}}\\right]\\:\\qquad\\textrm{SE}\\\n",
        "\\end{equation}\n",
        "\n",
        "\\begin{equation}\n",
        "\\frac{n(D)}{N}=B_{1}\\:D+B_{2}\\left(1-\\exp\\left[-\\frac{\\,D}{D_{0}}\\right]\\right)\\:\\qquad\\textrm{SEL}\\\n",
        "\\end{equation}\n",
        "\n",
        "\\begin{equation}\n",
        "\\frac{n(D)}{N}=B_{3}\\left(1-\\exp\\left[-\\frac{\\,D}{D_{02}}\\right]\\right)+B_{4}\\left(1-\\exp\\left[-\\frac{\\,D}{D_{01}}\\right]\\right)\\:\\quad\\textrm{DSE}\\\n",
        "\\end{equation}\n",
        "\n",
        "\\begin{equation}\n",
        "\\frac{n(D)}{N}=\\left[1-\\left(1+B\\:b\\:D\\right)^{-1/b}\\right]\\qquad\\textrm{GOK-DR}\\\n",
        "\\end{equation}\n",
        "\n",
        "\n",
        "\\begin{equation}\n",
        "\\frac{n(D)}{A}=1+\\frac{1}{1-R}W\\biggl[(R-1)\\exp\\biggl(R-1-D/D_{c}\\biggr)\\biggr]\\:\\\n",
        "\\end{equation}\n",
        "\n",
        "The last equation is the PKC-equation (Pagonis-Kitis-Chen), which has been shown to fit experimental dose response from many types of materials. $R$ is the retrapping ratio ($0<R<1$), $D_c$ is the characteristic dose and $A$ is a proportionality constant, and $W[z]$ is the Lambert function.\n",
        "\n",
        "In the above equations, $D$ is the irradiation dose, and $D_{0}$ is called the characteristic\n",
        "dose of the trap filling process. $B_{i}$ $(i=1\\ldots4)$ are constants,\n",
        "and $D_{01},\\:D_{02}$ are two constants characteristic of the sample\n",
        "with the dimensions of dose $D$. As a rule of thumb when using the\n",
        "SE function to fit data, the dose response is usually fully saturated\n",
        "after a dose of about $5D_{0}$. In the case of the GOK-DR model,\n",
        "$b$ is the GOK parameter and $A$, $B$ are constants.\n",
        "\n",
        "% Preview source code from paragraph 33 to 35\n",
        "\n",
        "In Code 15.2  we fit dose response data using  the SE equation, and\n",
        "the double saturating exponential (DSE) equation. The SAR-OSL experimental dose response curves are from Timar-Gabor et al. {Timar-Gabor_2012} (their Figure 3), for coarse grain quartz samples in a loess-palaeosol sequence.\n",
        "\n",
        "The best fit parameters are listed in the Table at the end of the Code.\n"
      ],
      "metadata": {
        "id": "CdwBfUyFCAcA"
      }
    },
    {
      "cell_type": "code",
      "execution_count": 14,
      "metadata": {
        "colab": {
          "base_uri": "https://localhost:8080/",
          "height": 654
        },
        "id": "berKD0dCB_Y4",
        "outputId": "a19f065b-3e8c-4ff8-f317-aaa88beeb946"
      },
      "outputs": [
        {
          "output_type": "stream",
          "name": "stdout",
          "text": [
            "+-----+-----+------+-----+------+-----+------+-------+-----+\n",
            "|     |  A1 | dA1  | Do1 | dDo1 |  A2 | dA2  |   D2  | dD2 |\n",
            "+-----+-----+------+-----+------+-----+------+-------+-----+\n",
            "| DSE | 1.8 | 0.34 | 5.5 |  2   | 4.8 | 0.34 | 240.3 |  39 |\n",
            "+-----+-----+------+-----+------+-----+------+-------+-----+\n",
            "+----+-----+-----+---------+------+\n",
            "|    |  N  |  dN | Do (Gy) | dDc  |\n",
            "+----+-----+-----+---------+------+\n",
            "| SE | 6.5 | 0.2 |  123.4  | 26.5 |\n",
            "+----+-----+-----+---------+------+\n"
          ]
        },
        {
          "output_type": "display_data",
          "data": {
            "text/plain": [
              "<Figure size 640x480 with 1 Axes>"
            ],
            "image/png": "[encoded data removed]"
          },
          "metadata": {}
        }
      ],
      "source": [
        "#Fit dose response data with Saturating Exponential\n",
        "import numpy as np\n",
        "import matplotlib.pyplot as plt\n",
        "import warnings\n",
        "warnings.filterwarnings(\"ignore\")\n",
        "from scipy import optimize\n",
        "from prettytable import PrettyTable \n",
        "\n",
        "## fit to SE equation  ----\n",
        "x_data= ([0, 3.55, 44.18, 258.718, 1051.62, 2044.98, 3003.94,\n",
        "      5024.61, 7046.32, 9992.29])\n",
        "y_data = ([0, 0.93512, 2.61108, 4.99104, 6.36704, 6.42148, \n",
        "      6.43643, 6.46792, 6.77215, 6.97391])\n",
        "\n",
        "# plot the data\n",
        "plt.plot(x_data,y_data,\"o\");\n",
        "\n",
        "# saturating exponential function (SE)\n",
        "def SE(x_data,A,Do):\n",
        "    u=abs(A)*(1-np.exp(-x_data/np.abs(Do)))\n",
        "    return u\n",
        "\n",
        "# double saturating exponential (DSE)\n",
        "def DSE(x_data,A,Do1,B,Do2):\n",
        "    u=A*(1-np.exp(-x_data/np.abs(Do1)))+B*(1-\\\n",
        "    np.exp(-x_data/np.abs(Do2)))\n",
        "    return u\n",
        "\n",
        "# initial values for DSE\n",
        "init_vals=[1,1000,1,10000]                #DSE\n",
        "params, cov = optimize.curve_fit(DSE,\\\n",
        "x_data, y_data,p0=init_vals)\n",
        "\n",
        "# best fit parameters for DSE\n",
        "[A,Do]=[round(params[x],1) for x in range(2)]\n",
        "dA = round(np.sqrt(cov[0][0]),2)\n",
        "dDo = int(np.sqrt(cov[1][1]))\n",
        "\n",
        "# plot data and DSE fit\n",
        "x_vals=np.arange(0,1e4,1e1)\n",
        "plt.plot(x_vals, DSE(x_vals, *params[0:4]),c=\"b\",\\\n",
        "linestyle=\"dashed\",label='DSE fit'); \n",
        "plt.xlim(-50,3200);\n",
        "\n",
        "# create and print table of best fi parameters\n",
        "[A1,Do1,A2,Do2]=[abs(round(params[x],1)) for x in range(4)]\n",
        "dA1 = round(np.sqrt(cov[0][0]),2)\n",
        "dDo1 = int(np.sqrt(cov[1][1]))\n",
        "dA2 = round(np.sqrt(cov[2][2]),2)\n",
        "dDo2 = int(np.sqrt(cov[3][3]))\n",
        "myTable = PrettyTable([\" \",\"A1\", \"dA1\", \"Do1\",\"dDo1\",\"A2\",\\\n",
        "\"dA2\",\"D2\",\"dD2\"]) \n",
        "myTable.add_row([\"DSE\",A1,dA1,Do1,\\\n",
        "dDo1,A2,dA2,Do2,dDo2])\n",
        "print(myTable)\n",
        "\n",
        "# initial values for SE\n",
        "init_vals=[20,20]                        #SE\n",
        "params, cov = optimize.curve_fit(SE,\\\n",
        "x_data, y_data,p0=init_vals)\n",
        "[A,Do]=[round(params[x],1) for x in range(2)]\n",
        "plt.plot(x_vals, SE(x_vals, *params[0:2]),c=\"r\",\\\n",
        "linestyle=\"dotted\",label='SE fit');     \n",
        "plt.scatter(x_data, y_data, label='Experiment');\n",
        "leg = plt.legend()\n",
        "leg.get_frame().set_linewidth(0.0)\n",
        "plt.ylabel('OSL (L/T)');\n",
        "plt.xlabel('Dose [Gy]');\n",
        "plt.title('Coarse grain quartz');\n",
        "\n",
        "# find errors for SE fit\n",
        "dA = round(np.sqrt(cov[0][0]),1)\n",
        "dDo = round(np.sqrt(cov[1][1]),1)\n",
        "\n",
        "# create and print table of parameters for SE\n",
        "myTable2 = PrettyTable([\" \",\"N\", \"dN\", \"Do (Gy)\",\"dDc\"]) \n",
        "myTable2.add_row([\"SE\",A,dA,Do,\\\n",
        "dDo])\n",
        "print(myTable2)\n",
        "\n",
        "plt.show()"
      ]
    },
    {
      "cell_type": "markdown",
      "source": [
        "# [Return to EURADOS website](https://blog.mcdaniel.edu/vasilispagonis/python-codes-for-eurados-2023/)"
      ],
      "metadata": {
        "id": "kUw2hqYPCkVb"
      }
    }
  ]
}