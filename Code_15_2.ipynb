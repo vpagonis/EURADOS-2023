{
  "nbformat": 4,
  "nbformat_minor": 0,
  "metadata": {
    "colab": {
      "provenance": [],
      "authorship_tag": "ABX9TyPBzgpQBd6OOpo8hCb5vmec",
      "include_colab_link": true
    },
    "kernelspec": {
      "name": "python3",
      "display_name": "Python 3"
    },
    "language_info": {
      "name": "python"
    }
  },
  "cells": [
    {
      "cell_type": "markdown",
      "metadata": {
        "id": "view-in-github",
        "colab_type": "text"
      },
      "source": [
        "<a href=\"https://colab.research.google.com/github/vpagonis/EURADOS-2023/blob/main/Code_15_2.ipynb\" target=\"_parent\"><img src=\"https://colab.research.google.com/assets/colab-badge.svg\" alt=\"Open In Colab\"/></a>"
      ]
    },
    {
      "cell_type": "markdown",
      "source": [
        "# CODE 15.2 FITTING DOSE RESPONSE DATA USING \n",
        "\n",
        "Optical absorption (OA) and electron spin resonance (ESR)  signals are\n",
        "often measured simultaneously with TL and/or OSL with the same sample.\n",
        "These combined types of experiments produce important information\n",
        "about the underlying luminescence mechanisms, as well as about the\n",
        "nature of the trapping and luminescence centers (see for example the\n",
        "quartz study by Yang and McKeever\\index{Yang X and McKeever S W S!predose effect}\n",
        "\\cite{Yang_1990}, Chen and Pagonis \\cite{Chen_2011_simulation}). \n",
        "\n",
        "The dose response of TL, OSL, OA and ESR signals exhibit nonlinear\n",
        "regions, associated with the phenomena of superlinearity and sublinearity. \n",
        "\n",
        "A good example of simultaneous measurements and possible correlations\n",
        "between the TL, ESR and OA signals\\index{dose response!TL, ESR, OA signals}\n",
        "has been found in a sample of fused silica (Wieser et al. \\cite{Wieser1991}).\n",
        "This type of multifaceted experiment can be very useful in identifying\n",
        "the source of the various luminescence signals, i.e. the nature of\n",
        "the traps and centers in the dosimetric material.\n",
        "\n",
        "As discussed in the previous chapter, the most commonly used function\n",
        "for fitting the dose response of luminescence signal is the saturating\n",
        "exponential function (SE). Additional general dose response equations\n",
        "are the saturating exponential plus linear function (SEL)\\index{single saturating exponential plus linear SEL},\n",
        "the double saturating exponential (DSE)\\index{double saturating exponential DSE}\n",
        "and the GOK-dose response (GOK-DR) equations. These equations can\n",
        "be summarized as (Berger and Chen \\cite{bergerchen2011}, Guralnik\n",
        "et al. \\cite{Guralnik_2015b}):\n",
        "\\begin{equation}\n",
        "\\frac{n(D)}{N}=1-\\exp\\left[-\\frac{\\,D}{D_{0}}\\right]\\:\\qquad\\textrm{SE}\\label{eq:exE ch15}\n",
        "\\end{equation}\n",
        "\\begin{equation}\n",
        "\\frac{n(D)}{N}=B_{1}\\:D+B_{2}\\left(1-\\exp\\left[-\\frac{\\,D}{D_{0}}\\right]\\right)\\:\\qquad\\textrm{SEL}\\label{eq:SEL ch15}\n",
        "\\end{equation}\n",
        "\\begin{equation}\n",
        "\\frac{n(D)}{N}=B_{3}\\left(1-\\exp\\left[-\\frac{\\,D}{D_{02}}\\right]\\right)+B_{4}\\left(1-\\exp\\left[-\\frac{\\,D}{D_{01}}\\right]\\right)\\:\\quad\\textrm{DSE}\\label{eq:DSE ch15-1}\n",
        "\\end{equation}\n",
        "\\begin{equation}\n",
        "\\frac{n(D)}{N}=\\left[1-\\left(1+B\\:b\\:D\\right)^{-1/b}\\right]\\qquad\\textrm{GOK-DR}\\label{eq:GOKDR-ch15}\n",
        "\\end{equation}\n",
        "where $D$ is the irradiation dose, and $D_{0}$ is called the characteristic\n",
        "dose of the trap filling process. $B_{i}$ $(i=1\\ldots4)$ are constants,\n",
        "and $D_{01},\\:D_{02}$ are two constants characteristic of the sample\n",
        "with the dimensions of dose $D$. As a rule of thumb when using the\n",
        "SE function to fit data, the dose response is usually fully saturated\n",
        "after a dose of about $5D_{0}$. In the case of the GOK-DR model,\n",
        "$b$ is the GOK parameter and $A$, $B$ are constants.\n",
        "\n",
        "Pagonis et al. \\cite{Pagonis2020a} analyzed the relationship between\n",
        "the PKC Eq.(\\ref{eq:PKC ch15}) and the saturating exponential Eq.(\\ref{eq:SE ch15}).\n",
        "When $R\\cong1$, the PKC Eq.(\\ref{eq:PKC ch15}) becomes identical\n",
        "with the SE in Eq.(\\ref{eq:SE ch15}), while for small or large values\n",
        "of $R$, (e.g. when $R=0.001$ or $R=3)$, there is disagreement between\n",
        "the two expressions. \n",
        "\n",
        "These authors chose experimental data from the literature, which could\n",
        "not be fitted with a SE function, and required instead the use of\n",
        "a SEL or a DSE fitting function. They found that Eq.(\\ref{eq:PKC ch15})\n",
        "provides a satisfactory alternative to the empirical SEL and DSE regression\n",
        "models. \n",
        "\n",
        "\n"
      ],
      "metadata": {
        "id": "CdwBfUyFCAcA"
      }
    },
    {
      "cell_type": "code",
      "execution_count": null,
      "metadata": {
        "id": "berKD0dCB_Y4"
      },
      "outputs": [],
      "source": []
    }
  ]
}